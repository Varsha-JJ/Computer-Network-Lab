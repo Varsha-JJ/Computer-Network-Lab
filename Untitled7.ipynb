{
  "nbformat": 4,
  "nbformat_minor": 0,
  "metadata": {
    "colab": {
      "name": "Untitled7.ipynb",
      "provenance": [],
      "collapsed_sections": [],
      "authorship_tag": "ABX9TyMKn3lWfzIW2DGUU5ajZfXr",
      "include_colab_link": true
    },
    "kernelspec": {
      "name": "python3",
      "display_name": "Python 3"
    },
    "language_info": {
      "name": "python"
    }
  },
  "cells": [
    {
      "cell_type": "markdown",
      "metadata": {
        "id": "view-in-github",
        "colab_type": "text"
      },
      "source": [
        "<a href=\"https://colab.research.google.com/github/Varsha-JJ/Computer-Network-Lab/blob/master/Untitled7.ipynb\" target=\"_parent\"><img src=\"https://colab.research.google.com/assets/colab-badge.svg\" alt=\"Open In Colab\"/></a>"
      ]
    },
    {
      "cell_type": "markdown",
      "source": [
        "create Dataframe From Series"
      ],
      "metadata": {
        "id": "18Yp6JuZ3qWc"
      }
    },
    {
      "cell_type": "code",
      "source": [
        "import pandas as pd\n",
        "a=pd.Series(['neha','jesna','varsha'])\n",
        "df=pd.DataFrame(a)\n",
        "print(df)\n"
      ],
      "metadata": {
        "colab": {
          "base_uri": "https://localhost:8080/"
        },
        "id": "NXmez_Ha3sqN",
        "outputId": "38b46ca5-2e80-41ed-b86f-26c4219469e6"
      },
      "execution_count": null,
      "outputs": [
        {
          "output_type": "stream",
          "name": "stdout",
          "text": [
            "        0\n",
            "0    neha\n",
            "1   jesna\n",
            "2  varsha\n"
          ]
        }
      ]
    },
    {
      "cell_type": "markdown",
      "source": [
        "DataFrame from List of Dictionaries"
      ],
      "metadata": {
        "id": "iT_6CY4452gW"
      }
    },
    {
      "cell_type": "code",
      "source": [
        "import pandas as pd\n",
        "list=[{'Name':'Harshini','Department':'Computer Application'},\n",
        "      {'Name':'Tharun','Department':'Mechanical'},\n",
        "      {'Name':'Manu','Department':'Computer Science'}]\n",
        "df=pd.DataFrame(list)\n",
        "print(df)"
      ],
      "metadata": {
        "colab": {
          "base_uri": "https://localhost:8080/"
        },
        "id": "WCDVhcf656Pk",
        "outputId": "c4358fa0-c6d6-4acf-f9b7-4e173555d833"
      },
      "execution_count": null,
      "outputs": [
        {
          "output_type": "stream",
          "name": "stdout",
          "text": [
            "       Name            Department\n",
            "0  Harshini  Computer Application\n",
            "1    Tharun            Mechanical\n",
            "2      Manu      Computer Science\n"
          ]
        }
      ]
    },
    {
      "cell_type": "markdown",
      "source": [
        "Display the first 5 rows of data frame"
      ],
      "metadata": {
        "id": "wuzaWRNt7U4-"
      }
    },
    {
      "cell_type": "code",
      "source": [
        "import pandas as pd\n",
        "list=[{'Name':'Harshini','Department':'Computer Application'},\n",
        "      {'Name':'Tharun','Department':'Mechanical'},\n",
        "      {'Name':'Manu','Department':'Computer Science'},\n",
        "       {'Name':'Pranav','Department':'Computer Science'},\n",
        "       {'Name':'Meenak','Department':'Computer Science'}] \n",
        "df=pd.DataFrame(list)\n",
        "print(df)\n",
        "for(row_index,row_value) in df.iterrows():\n",
        "  print('\\n Row index is:',row_index)\n",
        "  print('\\n Row value is:',row_value)"
      ],
      "metadata": {
        "colab": {
          "base_uri": "https://localhost:8080/"
        },
        "id": "KByt_oT37bQd",
        "outputId": "5ab2ff27-fc09-42e2-92b5-e69c9ad770ec"
      },
      "execution_count": null,
      "outputs": [
        {
          "output_type": "stream",
          "name": "stdout",
          "text": [
            "       Name            Department\n",
            "0  Harshini  Computer Application\n",
            "1    Tharun            Mechanical\n",
            "2      Manu      Computer Science\n",
            "3    Pranav      Computer Science\n",
            "4    Meenak      Computer Science\n",
            "\n",
            " Row index is: 0\n",
            "\n",
            " Row value is: Name                      Harshini\n",
            "Department    Computer Application\n",
            "Name: 0, dtype: object\n",
            "\n",
            " Row index is: 1\n",
            "\n",
            " Row value is: Name              Tharun\n",
            "Department    Mechanical\n",
            "Name: 1, dtype: object\n",
            "\n",
            " Row index is: 2\n",
            "\n",
            " Row value is: Name                      Manu\n",
            "Department    Computer Science\n",
            "Name: 2, dtype: object\n",
            "\n",
            " Row index is: 3\n",
            "\n",
            " Row value is: Name                    Pranav\n",
            "Department    Computer Science\n",
            "Name: 3, dtype: object\n",
            "\n",
            " Row index is: 4\n",
            "\n",
            " Row value is: Name                    Meenak\n",
            "Department    Computer Science\n",
            "Name: 4, dtype: object\n"
          ]
        }
      ]
    },
    {
      "cell_type": "markdown",
      "source": [
        "Select the last two columns of the data frame"
      ],
      "metadata": {
        "id": "F9if7y3W9GP_"
      }
    },
    {
      "cell_type": "code",
      "source": [
        "import pandas as pd\n",
        "list=[{'Name':'Harshini','Department':'Computer Application'},\n",
        "      {'Name':'Tharun','Department':'Mechanical'},\n",
        "      {'Name':'Manu','Department':'Computer Science'},\n",
        "       {'Name':'Pranav','Department':'Computer Science'},\n",
        "       {'Name':'Meenak','Department':'Computer Science'}] \n",
        "df=pd.DataFrame(df)\n",
        "for(col_name,col_value) in df.iteritems():\n",
        "  print('Column name is:',col_name)\n",
        "  print('Column values are:',col_value)"
      ],
      "metadata": {
        "colab": {
          "base_uri": "https://localhost:8080/"
        },
        "id": "3AOWY_O79LTl",
        "outputId": "391fffd0-9eae-4eb9-c465-d78cd570c14a"
      },
      "execution_count": null,
      "outputs": [
        {
          "output_type": "stream",
          "name": "stdout",
          "text": [
            "Column name is: Name\n",
            "Column values are: 0    Harshini\n",
            "1      Tharun\n",
            "2        Manu\n",
            "3      Pranav\n",
            "4      Meenak\n",
            "Name: Name, dtype: object\n",
            "Column name is: Department\n",
            "Column values are: 0    Computer Application\n",
            "1              Mechanical\n",
            "2        Computer Science\n",
            "3        Computer Science\n",
            "4        Computer Science\n",
            "Name: Department, dtype: object\n"
          ]
        }
      ]
    },
    {
      "cell_type": "markdown",
      "source": [
        "Add two data frames"
      ],
      "metadata": {
        "id": "bjg7pFs--ToO"
      }
    },
    {
      "cell_type": "code",
      "source": [
        "import pandas as pd\n",
        "s=pd.Series([10,20,30,40])\n",
        "df=pd.DataFrame(s)\n",
        "df.columns=['List1']\n",
        "df['List2']=20\n",
        "df['List3']=df['List1']+df['List2']\n",
        "print(df)"
      ],
      "metadata": {
        "colab": {
          "base_uri": "https://localhost:8080/"
        },
        "id": "nCjzEle7-Wnt",
        "outputId": "0eabfc7c-4587-4926-907b-872bfcbcce9c"
      },
      "execution_count": null,
      "outputs": [
        {
          "output_type": "stream",
          "name": "stdout",
          "text": [
            "   List1  List2  List3\n",
            "0     10     20     30\n",
            "1     20     20     40\n",
            "2     30     20     50\n",
            "3     40     20     60\n"
          ]
        }
      ]
    },
    {
      "cell_type": "markdown",
      "source": [
        "Demonstrate deletion, and renaming of columns"
      ],
      "metadata": {
        "id": "3Wz9jT8X_5cQ"
      }
    },
    {
      "cell_type": "code",
      "source": [
        "import pandas as pd\n"
      ],
      "metadata": {
        "id": "jAxfX_f2_9Uf"
      },
      "execution_count": null,
      "outputs": []
    }
  ]
}